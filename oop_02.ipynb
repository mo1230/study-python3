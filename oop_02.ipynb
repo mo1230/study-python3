{
 "cells": [
  {
   "cell_type": "markdown",
   "metadata": {},
   "source": [
    "### 类与对象"
   ]
  },
  {
   "cell_type": "code",
   "execution_count": 18,
   "metadata": {},
   "outputs": [
    {
     "name": "stdout",
     "output_type": "stream",
     "text": [
      "{'__module__': '__main__', 'name': None, 'age': None, 'learn': <function Student.learn at 0x7faf6cf52400>, '__dict__': <attribute '__dict__' of 'Student' objects>, '__weakref__': <attribute '__weakref__' of 'Student' objects>, '__doc__': None}\n",
      "----------------------------------------\n",
      "{}\n",
      "----------------------------------------\n",
      "hi ,i am doing homework\n",
      "{'name': 'yueyue', 'age': 18}\n"
     ]
    }
   ],
   "source": [
    "class Student():\n",
    "    name = None\n",
    "    age = None\n",
    "    \n",
    "    def learn(self):\n",
    "        print(\"hi ,i am doing homework\")\n",
    "\n",
    "# 查看类Student的所有属性\n",
    "print(Student.__dict__)\n",
    "\n",
    "\n",
    "print(\"-\" * 40)\n",
    "\n",
    "A = Student()\n",
    "\n",
    "# 如果只定义一个对象，但是没有对这个对象具体属性赋值，那么这个对象只是一个空对象\n",
    "print(A.__dict__)\n",
    "\n",
    "print(\"-\" * 40)\n",
    "\n",
    "A.name = \"yueyue\"\n",
    "A.age = 18\n",
    "A.learn()\n",
    "\n",
    "# 查看对象A的属性\n",
    "print(A.__dict__)\n"
   ]
  },
  {
   "cell_type": "markdown",
   "metadata": {},
   "source": [
    "### 关于self参数\n",
    "- self 在对象的方法中表示对象本身，如果通过对象调用方法，则把对象本身放入方法的第一个参数中\n",
    "- self并不是关键字，可以用一个普通变量名代替\n",
    "- 相当于java c++ 中的this\n",
    "- 没有self参数的方法只能通过类来调用，不能通过对象来调用"
   ]
  },
  {
   "cell_type": "code",
   "execution_count": 7,
   "metadata": {},
   "outputs": [
    {
     "name": "stdout",
     "output_type": "stream",
     "text": [
      "it is me\n"
     ]
    },
    {
     "ename": "TypeError",
     "evalue": "say() takes 0 positional arguments but 1 was given",
     "output_type": "error",
     "traceback": [
      "\u001b[0;31m---------------------------------------------------------------------------\u001b[0m",
      "\u001b[0;31mTypeError\u001b[0m                                 Traceback (most recent call last)",
      "\u001b[0;32m<ipython-input-7-7a56a36aa0db>\u001b[0m in \u001b[0;36m<module>\u001b[0;34m()\u001b[0m\n\u001b[1;32m     12\u001b[0m \u001b[0mstu\u001b[0m\u001b[0;34m.\u001b[0m\u001b[0msay_again\u001b[0m\u001b[0;34m(\u001b[0m\u001b[0;34m)\u001b[0m\u001b[0;34m\u001b[0m\u001b[0m\n\u001b[1;32m     13\u001b[0m \u001b[0;34m\u001b[0m\u001b[0m\n\u001b[0;32m---> 14\u001b[0;31m \u001b[0mstu\u001b[0m\u001b[0;34m.\u001b[0m\u001b[0msay\u001b[0m\u001b[0;34m(\u001b[0m\u001b[0;34m)\u001b[0m\u001b[0;34m\u001b[0m\u001b[0m\n\u001b[0m",
      "\u001b[0;31mTypeError\u001b[0m: say() takes 0 positional arguments but 1 was given"
     ]
    }
   ],
   "source": [
    "class Stu():\n",
    "    name = None\n",
    "    \n",
    "    def say():\n",
    "        print(\"hi\")\n",
    "        \n",
    "    def say_again(self):\n",
    "        print(\"it is me\")\n",
    "        \n",
    "stu = Stu()\n",
    "\n",
    "stu.say_again()\n",
    "\n",
    "stu.say()\n",
    "\n"
   ]
  },
  {
   "cell_type": "code",
   "execution_count": 25,
   "metadata": {},
   "outputs": [
    {
     "name": "stdout",
     "output_type": "stream",
     "text": [
      "{}\n",
      "huanhuan\n",
      "huanhuan\n",
      "18\n",
      "{}\n"
     ]
    }
   ],
   "source": [
    "# 在类的方法内访问类的成员\n",
    "\n",
    "class A():\n",
    "    name = \"huanhuan\"\n",
    "    age = 18\n",
    "    \n",
    "    def say(self):\n",
    "        print(__class__.name)\n",
    "        print(__class__.age)\n",
    "        \n",
    "    def say1(self):\n",
    "        print(\"hi\")\n",
    "        \n",
    "a = A()\n",
    "\n",
    "print(a.__dict__)\n",
    "\n",
    "print(a.name)\n",
    "a.say()\n",
    "print(a.__dict__)"
   ]
  },
  {
   "cell_type": "markdown",
   "metadata": {},
   "source": [
    "## 面向对象的三大特性\n",
    "- 封装\n",
    "    -对类或对象的成员访问做限制\n",
    "- 继承\n",
    "- 多态\n",
    "\n",
    "- 封装的三个级别\n",
    "    - 公开  public\n",
    "    - 受保护  protected\n",
    "        -在类和子类中可以访问，在外部不可以\n",
    "        - 在成员名前添加一个下划线\n",
    "    - 私有  private\n",
    "        - 在变量名前加两个下划线\n",
    "        - 私有成员只能在当前类或者对象中访问，不能打印出来\n",
    "        - 但是仍然有方法可以访问"
   ]
  },
  {
   "cell_type": "code",
   "execution_count": 28,
   "metadata": {},
   "outputs": [
    {
     "name": "stdout",
     "output_type": "stream",
     "text": [
      "{'__module__': '__main__', '_B__name': 'huanhuan', '_B__age': 19, '__dict__': <attribute '__dict__' of 'B' objects>, '__weakref__': <attribute '__weakref__' of 'B' objects>, '__doc__': None}\n",
      "18\n"
     ]
    },
    {
     "ename": "AttributeError",
     "evalue": "'B' object has no attribute '__name'",
     "output_type": "error",
     "traceback": [
      "\u001b[0;31m---------------------------------------------------------------------------\u001b[0m",
      "\u001b[0;31mAttributeError\u001b[0m                            Traceback (most recent call last)",
      "\u001b[0;32m<ipython-input-28-7b8d981d18c1>\u001b[0m in \u001b[0;36m<module>\u001b[0;34m()\u001b[0m\n\u001b[1;32m     12\u001b[0m \u001b[0mprint\u001b[0m\u001b[0;34m(\u001b[0m\u001b[0mb\u001b[0m\u001b[0;34m.\u001b[0m\u001b[0m_B__age\u001b[0m\u001b[0;34m)\u001b[0m\u001b[0;34m\u001b[0m\u001b[0m\n\u001b[1;32m     13\u001b[0m \u001b[0;34m\u001b[0m\u001b[0m\n\u001b[0;32m---> 14\u001b[0;31m \u001b[0mprint\u001b[0m\u001b[0;34m(\u001b[0m\u001b[0mb\u001b[0m\u001b[0;34m.\u001b[0m\u001b[0m__name\u001b[0m\u001b[0;34m)\u001b[0m\u001b[0;34m\u001b[0m\u001b[0m\n\u001b[0m",
      "\u001b[0;31mAttributeError\u001b[0m: 'B' object has no attribute '__name'"
     ]
    }
   ],
   "source": [
    "# 访问私有成员\n",
    "\n",
    "class B():\n",
    "    __name = \"huanhuan\"\n",
    "    __age = 19\n",
    "    \n",
    "    \n",
    "b = B()\n",
    "\n",
    "print(B.__dict__)\n",
    "b._B__age = 18\n",
    "print(b._B__age)\n",
    "\n",
    "print(b.__name)"
   ]
  },
  {
   "cell_type": "markdown",
   "metadata": {},
   "source": [
    "### 继承\n",
    "- 作用： 减少代码量，增加代码的复用功能，同时可以设置类与类的关系\n",
    "- 继承与被继承\n",
    "    - 父类\n",
    "    - 子类   或者  派生类"
   ]
  },
  {
   "cell_type": "code",
   "execution_count": 10,
   "metadata": {},
   "outputs": [
    {
     "name": "stdout",
     "output_type": "stream",
     "text": [
      "lady\n",
      "sec\n",
      "sleeping ...\n",
      "make money\n",
      "testing\n"
     ]
    },
    {
     "ename": "AttributeError",
     "evalue": "'Teacher' object has no attribute '__age'",
     "output_type": "error",
     "traceback": [
      "\u001b[0;31m---------------------------------------------------------------------------\u001b[0m",
      "\u001b[0;31mAttributeError\u001b[0m                            Traceback (most recent call last)",
      "\u001b[0;32m<ipython-input-10-f43b54cc2c90>\u001b[0m in \u001b[0;36m<module>\u001b[0;34m()\u001b[0m\n\u001b[1;32m     38\u001b[0m \u001b[0;31m# 私有成员子类不可访问\u001b[0m\u001b[0;34m\u001b[0m\u001b[0;34m\u001b[0m\u001b[0m\n\u001b[1;32m     39\u001b[0m \u001b[0;34m\u001b[0m\u001b[0m\n\u001b[0;32m---> 40\u001b[0;31m \u001b[0mprint\u001b[0m\u001b[0;34m(\u001b[0m\u001b[0mkity\u001b[0m\u001b[0;34m.\u001b[0m\u001b[0m__age\u001b[0m\u001b[0;34m)\u001b[0m\u001b[0;34m\u001b[0m\u001b[0m\n\u001b[0m",
      "\u001b[0;31mAttributeError\u001b[0m: 'Teacher' object has no attribute '__age'"
     ]
    }
   ],
   "source": [
    "# 在python中，任何一个类都有一个共同的父类object\n",
    "\n",
    "class Person():\n",
    "    name = \"mary\"\n",
    "    __age = 18\n",
    "    _petname = \"sec\"\n",
    "    \n",
    "    def sleep(self):\n",
    "        print(\"sleeping ...\")\n",
    "        \n",
    "    def work(self):\n",
    "        print(\"make money\")\n",
    "        \n",
    "# 父类写在括号里\n",
    "\n",
    "class Teacher(Person):\n",
    "    name = \"lady\"\n",
    "    \n",
    "    def make_test(self):\n",
    "        print(\"testing\")\n",
    "        \n",
    "    def work(self):\n",
    "        \n",
    "        # 这里的self参数不可省略，表示子类\n",
    "        # 在子类中调用父类的方法，也可以使用\n",
    "        super().work()\n",
    "        #Person.work(self)\n",
    "        \n",
    "        \n",
    "        self.make_test()\n",
    "    \n",
    "kity = Teacher()\n",
    "\n",
    "print(kity.name)\n",
    "print(kity._petname)\n",
    "\n",
    "kity.sleep()\n",
    "kity.work()\n",
    "\n",
    "# 私有成员子类不可访问\n",
    "\n",
    "print(kity.__age)"
   ]
  },
  {
   "cell_type": "markdown",
   "metadata": {},
   "source": [
    "## 继承中的构造函数\n",
    "- __init__\n",
    "- 每次实例化时，第一个被自动调用，进行初始化"
   ]
  },
  {
   "cell_type": "code",
   "execution_count": 15,
   "metadata": {},
   "outputs": [
    {
     "name": "stdout",
     "output_type": "stream",
     "text": [
      "China\n"
     ]
    }
   ],
   "source": [
    "class Person():\n",
    "    def __init__(self):\n",
    "        self.__name = \"human\"\n",
    "        self.__age = 18\n",
    "        self._gender = None\n",
    "        self.area = \"China\"\n",
    "    \n",
    "man = Person()\n",
    "\n",
    "print(man.area)\n",
    "    \n",
    "    "
   ]
  }
 ],
 "metadata": {
  "kernelspec": {
   "display_name": "Python 3",
   "language": "python",
   "name": "python3"
  },
  "language_info": {
   "codemirror_mode": {
    "name": "ipython",
    "version": 3
   },
   "file_extension": ".py",
   "mimetype": "text/x-python",
   "name": "python",
   "nbconvert_exporter": "python",
   "pygments_lexer": "ipython3",
   "version": "3.6.5"
  }
 },
 "nbformat": 4,
 "nbformat_minor": 2
}
