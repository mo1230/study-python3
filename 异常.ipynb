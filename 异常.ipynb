{
 "cells": [
  {
   "cell_type": "markdown",
   "metadata": {},
   "source": [
    "### 异常\n",
    "- 在逻辑正确的前提下出现的错误"
   ]
  },
  {
   "cell_type": "code",
   "execution_count": 2,
   "metadata": {},
   "outputs": [
    {
     "ename": "IndentationError",
     "evalue": "unexpected indent (<ipython-input-2-3d45622e9a97>, line 3)",
     "output_type": "error",
     "traceback": [
      "\u001b[0;36m  File \u001b[0;32m\"<ipython-input-2-3d45622e9a97>\"\u001b[0;36m, line \u001b[0;32m3\u001b[0m\n\u001b[0;31m    try:\u001b[0m\n\u001b[0m    ^\u001b[0m\n\u001b[0;31mIndentationError\u001b[0m\u001b[0;31m:\u001b[0m unexpected indent\n"
     ]
    }
   ],
   "source": [
    " # python的异常处理模块语法\n",
    "    \n",
    "    try:\n",
    "        #可能出错的代码\n",
    "    except：\n",
    "    \n",
    "        "
   ]
  },
  {
   "cell_type": "markdown",
   "metadata": {},
   "source": [
    "- 执行try下面的语句\n",
    "- 如果出错，执行except下的语句\n",
    "- 没有出错则执行else\n",
    "- 不论是否有错,都要执行finally"
   ]
  },
  {
   "cell_type": "code",
   "execution_count": 1,
   "metadata": {},
   "outputs": [
    {
     "name": "stdout",
     "output_type": "stream",
     "text": [
      "Plz input your num: 0\n",
      "not 0\n",
      "division by zero\n"
     ]
    }
   ],
   "source": [
    "# 简单案例\n",
    "try:\n",
    "    num = int(input(\"Plz input your num: \"))\n",
    "    rst = 100/num\n",
    "    print(rst)\n",
    "# ZeroDivisionError是python异常模块里的一个类\n",
    "# 当捕获异常后，将异常实例化，出错信息会在实例中\n",
    "except ZeroDivisionError as e:\n",
    "    print(\"not 0\")\n",
    "    print(e)\n",
    "    exit()  # 退出"
   ]
  },
  {
   "cell_type": "code",
   "execution_count": 3,
   "metadata": {},
   "outputs": [
    {
     "name": "stdout",
     "output_type": "stream",
     "text": [
      "(<class 'ZeroDivisionError'>, <class 'ArithmeticError'>, <class 'Exception'>, <class 'BaseException'>, <class 'object'>)\n"
     ]
    }
   ],
   "source": [
    "print(ZeroDivisionError.__mro__)"
   ]
  },
  {
   "cell_type": "code",
   "execution_count": 1,
   "metadata": {},
   "outputs": [
    {
     "name": "stdout",
     "output_type": "stream",
     "text": [
      "name 'prin' is not defined\n",
      "go out\n"
     ]
    }
   ],
   "source": [
    "# 手动引发异常\n",
    "\n",
    "# raise\n",
    "\n",
    "try:\n",
    "    print(\"hi\")\n",
    "    raise ValueError\n",
    "    print(\"hello\")\n",
    "    \n",
    "except NameError as e:\n",
    "    print(e)\n",
    "    exit()\n",
    "    \n",
    "except ValueError as e:\n",
    "    print(\"error\")\n",
    "    print(e)\n",
    "    exit()\n",
    "    \n",
    "except Exception as e:\n",
    "    print(e)\n",
    "    exit()\n",
    "    \n",
    "finally:\n",
    "    print(\"go out\")"
   ]
  }
 ],
 "metadata": {
  "kernelspec": {
   "display_name": "Python 3",
   "language": "python",
   "name": "python3"
  },
  "language_info": {
   "codemirror_mode": {
    "name": "ipython",
    "version": 3
   },
   "file_extension": ".py",
   "mimetype": "text/x-python",
   "name": "python",
   "nbconvert_exporter": "python",
   "pygments_lexer": "ipython3",
   "version": "3.6.5"
  }
 },
 "nbformat": 4,
 "nbformat_minor": 2
}
