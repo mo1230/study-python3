{
 "cells": [
  {
   "cell_type": "code",
   "execution_count": 24,
   "metadata": {},
   "outputs": [
    {
     "name": "stdout",
     "output_type": "stream",
     "text": [
      "['False', 'None', 'True', 'and', 'as', 'assert', 'break', 'class', 'continue', 'def', 'del', 'elif', 'else', 'except', 'finally', 'for', 'from', 'global', 'if', 'import', 'in', 'is', 'lambda', 'nonlocal', 'not', 'or', 'pass', 'raise', 'return', 'try', 'while', 'with', 'yield']\n"
     ]
    }
   ],
   "source": [
    "import keyword  #引入关键字与保留字\n",
    "print(keyword.kwlist)"
   ]
  },
  {
   "cell_type": "markdown",
   "metadata": {},
   "source": [
    "\n",
    "### 变量类型\n",
    "- 严格意义上，python只有一个类型\n",
    "- 标准一共六种\n",
    "\t- 数字类型Number\n",
    "\t- 字符串类型str\n",
    "\t- 列表list\n",
    "\t- 元组tuple\n",
    "\t- 字典 Dictionary\n",
    "\t- 集合 set\n"
   ]
  },
  {
   "cell_type": "markdown",
   "metadata": {},
   "source": [
    "### 复数conplex\n",
    "- 定义同数学定义一致\n",
    "- 一个由实部与虚部构成的数\n",
    "- 虚部用j/J表示\n",
    "- 5+3j"
   ]
  },
  {
   "cell_type": "markdown",
   "metadata": {},
   "source": [
    "### 布尔值\n",
    "- 表示真假\n",
    "- True   False\n",
    "- 布尔值可以与数字直接操作\n"
   ]
  },
  {
   "cell_type": "code",
   "execution_count": 5,
   "metadata": {},
   "outputs": [
    {
     "name": "stdout",
     "output_type": "stream",
     "text": [
      "19\n"
     ]
    }
   ],
   "source": [
    "age = 18 + True\n",
    "print(age)"
   ]
  },
  {
   "cell_type": "markdown",
   "metadata": {},
   "source": [
    "### 字符串\n",
    "- 用来表示一串文字信息\n",
    "- 如何表示  使用引号括起来\n",
    "    - 单引号\n",
    "    - 双引号\n",
    "        - 单引号、双引号只能表示一行\n",
    "    - 三引号\n",
    "        - 三引号能表示多行\n",
    "- 单双引号交错使用"
   ]
  },
  {
   "cell_type": "code",
   "execution_count": 6,
   "metadata": {},
   "outputs": [
    {
     "name": "stdout",
     "output_type": "stream",
     "text": [
      "i love you\n",
      "\n",
      "i love you\n",
      "but\n",
      "you do not love me\n",
      "\n"
     ]
    }
   ],
   "source": [
    "love = 'i love you'\n",
    "print(love)\n",
    "\n",
    "html = '''\n",
    "i love you\n",
    "but\n",
    "you do not love me\n",
    "'''\n",
    "print(html)"
   ]
  },
  {
   "cell_type": "markdown",
   "metadata": {},
   "source": [
    "### 转义字符\n",
    "- 借助反斜杠\\\n",
    "- 不同的系统对换行操作有不同的理解\n",
    "    - Windows: \\n\n",
    "    - Linux: \\r\\n"
   ]
  },
  {
   "cell_type": "code",
   "execution_count": 4,
   "metadata": {},
   "outputs": [
    {
     "name": "stdout",
     "output_type": "stream",
     "text": [
      "Let's go\n",
      "Let's go\n",
      "I love \r\n",
      " you\n"
     ]
    }
   ],
   "source": [
    "# 如果想表示出Let's go\n",
    "# 1. 可以使用不同的引号嵌套\n",
    "# 2. 转义字符\n",
    "\n",
    "s = \"Let's go\"\n",
    "print(s)\n",
    "\n",
    "ss = 'Let\\'s go'\n",
    "print(ss)\n",
    "\n",
    "# 回车换行符\n",
    "s1 = 'I love \\r\\n you'\n",
    "print(s1)"
   ]
  },
  {
   "cell_type": "markdown",
   "metadata": {},
   "source": [
    "## 字符串的格式化\n",
    "- 将字符串按照一定格式打印或者填充\n",
    "- 两种方法\n",
    "    - 利用百分号\n",
    "    - 利用format()函数"
   ]
  },
  {
   "cell_type": "markdown",
   "metadata": {},
   "source": [
    "### 利用百分号格式化\n",
    "- %d 一个整数\n",
    "- %s 一个字符串\n",
    "\n"
   ]
  },
  {
   "cell_type": "code",
   "execution_count": 12,
   "metadata": {},
   "outputs": [
    {
     "name": "stdout",
     "output_type": "stream",
     "text": [
      "I love you\n",
      "你好 I love you\n",
      "I love %s\n",
      "I love 18\n",
      "I love you, i am 18 years old\n"
     ]
    }
   ],
   "source": [
    "s = 'I love %s' \n",
    "print(s%'you')\n",
    "\n",
    "print(\"你好\",s%'you')\n",
    "ss = 'I am %d years old'\n",
    "print(s)\n",
    "print(s%18)\n",
    "\n",
    "# 如果出现多个字符串需要格式化，则使用%()\n",
    "sss = \"I love %s, i am %d years old\"\n",
    "print(sss%(\"you\",18))"
   ]
  },
  {
   "cell_type": "markdown",
   "metadata": {},
   "source": [
    "### format函数格式化字符串\n",
    "- 推荐使用format函数格式化\n",
    "- 在使用上，以{}和:，后面用format带参数表示"
   ]
  },
  {
   "cell_type": "code",
   "execution_count": 15,
   "metadata": {},
   "outputs": [
    {
     "name": "stdout",
     "output_type": "stream",
     "text": [
      "I love you\n",
      "yes,i am 18 years old,i love you,i am 18\n"
     ]
    }
   ],
   "source": [
    "s = \"I love {}\".format(\"you\")\n",
    "print(s)\n",
    "\n",
    "ss = \"yes,i am {1} years old,i love {0},i am {1}\".format(\"you\",18)\n",
    "print(ss)"
   ]
  },
  {
   "cell_type": "code",
   "execution_count": 19,
   "metadata": {},
   "outputs": [
    {
     "name": "stdout",
     "output_type": "stream",
     "text": [
      "81\n",
      "1\n"
     ]
    }
   ],
   "source": [
    "# 算数运算符\n",
    "# 乘法 *\n",
    "# 除法 / \n",
    "    # 在python3中/代表普通除法\n",
    "# 取余 %\n",
    "# 幂运算**\n",
    "\n",
    "a = 3 ** 4\n",
    "print(a)\n",
    "\n",
    "# python中没有自加自减\n",
    "\n",
    "\n",
    "# 取商 //\n",
    "b = 4 // 3\n",
    "print(b)"
   ]
  },
  {
   "cell_type": "markdown",
   "metadata": {},
   "source": [
    "## 比较运算符\n",
    "- 对两个变量或者值进行比较\n",
    "- 比较的结果为布尔值 True  False"
   ]
  },
  {
   "cell_type": "code",
   "execution_count": 22,
   "metadata": {
    "scrolled": true
   },
   "outputs": [
    {
     "name": "stdout",
     "output_type": "stream",
     "text": [
      "False\n",
      "True\n"
     ]
    }
   ],
   "source": [
    "# == 等于号\n",
    "a = 3 ** 4\n",
    "b = a==80\n",
    "print(b)\n",
    "\n",
    "# != 不等于\n",
    "print(9 != 8)\n",
    "\n",
    "# >\n",
    "# < \n",
    "# >=\n",
    "# <="
   ]
  },
  {
   "cell_type": "markdown",
   "metadata": {},
   "source": [
    "## 赋值运算符"
   ]
  },
  {
   "cell_type": "code",
   "execution_count": 23,
   "metadata": {},
   "outputs": [],
   "source": [
    "# = 赋值\n",
    "\n",
    "# += -= *= /= //= **="
   ]
  },
  {
   "cell_type": "markdown",
   "metadata": {},
   "source": [
    "## 逻辑运算符\n",
    "- 对布尔值进行计算的符号\n",
    "    \n",
    "    - and\n",
    "    - or\n",
    "    - not\n",
    "- python中逻辑运算符没有异或运算\n",
    "- 逻辑运算的短路问题\n",
    "    - 逻辑运算式，按照运算顺序计算，一旦可以确定出式子的结果，就不再继续运算，直接返回结果"
   ]
  },
  {
   "cell_type": "code",
   "execution_count": null,
   "metadata": {},
   "outputs": [],
   "source": []
  },
  {
   "cell_type": "code",
   "execution_count": 25,
   "metadata": {},
   "outputs": [
    {
     "name": "stdout",
     "output_type": "stream",
     "text": [
      "True\n"
     ]
    }
   ],
   "source": [
    "a = True\n",
    "b = False\n",
    "c = True\n",
    "\n",
    "d = a and b or c\n",
    "print(d)"
   ]
  },
  {
   "cell_type": "markdown",
   "metadata": {},
   "source": [
    "# 成员运算符\n",
    "- 用来检测某一个变量是否是另一个变量的成员\n",
    "- in\n",
    "- not in"
   ]
  },
  {
   "cell_type": "code",
   "execution_count": 29,
   "metadata": {},
   "outputs": [
    {
     "name": "stdout",
     "output_type": "stream",
     "text": [
      "False\n"
     ]
    }
   ],
   "source": [
    "l = [1,2,3,4]\n",
    "a = 7\n",
    "b = a in l\n",
    "print(b)"
   ]
  },
  {
   "cell_type": "markdown",
   "metadata": {},
   "source": [
    "## 身份运算\n",
    "- 检测两个变量是否为同一个变量\n",
    "    - is\n",
    "    - is not"
   ]
  },
  {
   "cell_type": "markdown",
   "metadata": {},
   "source": [
    "## 三大结构\n",
    "- 顺序\n",
    "- 分支\n",
    "- 循环"
   ]
  },
  {
   "cell_type": "markdown",
   "metadata": {},
   "source": [
    "## 分支\n",
    "- 语法\n",
    "    \n",
    "    if 条件表达式:\n",
    "        语句1\n",
    "        语句2\n",
    "        语句3\n",
    "        ......\n",
    "- 条件表达式后的冒号不能省略\n",
    "- if后面的语句，如果属于if语句块，则必须同一个缩进等级"
   ]
  },
  {
   "cell_type": "code",
   "execution_count": 2,
   "metadata": {},
   "outputs": [
    {
     "name": "stdout",
     "output_type": "stream",
     "text": [
      "我们不适合，孩纸\n",
      "go out\n",
      "go die\n"
     ]
    }
   ],
   "source": [
    "age = 17 \n",
    "if age < 18:\n",
    "    print(\"我们不适合，孩纸\")\n",
    "    print(\"go out\")\n",
    "    print(\"go die\")"
   ]
  },
  {
   "cell_type": "code",
   "execution_count": 6,
   "metadata": {},
   "outputs": [
    {
     "name": "stdout",
     "output_type": "stream",
     "text": [
      "yes,you can\n"
     ]
    }
   ],
   "source": [
    "age = 19 \n",
    "if age < 18:\n",
    "    print(\"我们不适合，孩纸\")\n",
    "    print(\"go out\")\n",
    "    print(\"go die\")\n",
    "    \n",
    "print(\"yes,you can\")"
   ]
  },
  {
   "cell_type": "markdown",
   "metadata": {},
   "source": [
    "## 双向分支\n",
    "- if...else...\n",
    "\n",
    "    if 条件表达式:\n",
    "        语句1\n",
    "        语句2\n",
    "        ...\n",
    "    else:\n",
    "        语句1\n",
    "        语句2\n",
    "        ....\n",
    "        \n",
    "- if与else的缩进为一个级别       "
   ]
  },
  {
   "cell_type": "code",
   "execution_count": 19,
   "metadata": {},
   "outputs": [
    {
     "name": "stdout",
     "output_type": "stream",
     "text": [
      "请输入性别：no\n",
      "你输入的性别是：no\n",
      "please\n",
      "here\n",
      "ok\n"
     ]
    }
   ],
   "source": [
    "gender = input(\"请输入性别：\")   #input函数，显示内容并接受用户输入,其返回值类型为字符串\n",
    "print(\"你输入的性别是：{0}\".format(gender))\n",
    "\n",
    "if gender == \"nan\":\n",
    "    print(\"go out\")\n",
    "else:\n",
    "    print(\"please\")\n",
    "    print(\"here\")\n",
    "    \n",
    "print(\"ok\")\n",
    "\n"
   ]
  },
  {
   "cell_type": "code",
   "execution_count": 20,
   "metadata": {},
   "outputs": [
    {
     "name": "stdout",
     "output_type": "stream",
     "text": [
      "请输入你的姓名：mo\n",
      "你好，mo\n"
     ]
    }
   ],
   "source": [
    "usr_name = input(\"请输入你的姓名：\")\n",
    "print(\"你好，{0}\".format(usr_name))"
   ]
  },
  {
   "cell_type": "code",
   "execution_count": 22,
   "metadata": {},
   "outputs": [
    {
     "name": "stdout",
     "output_type": "stream",
     "text": [
      "请输入学生成绩：90\n",
      "A\n"
     ]
    }
   ],
   "source": [
    "score = input(\"请输入学生成绩：\")\n",
    "\n",
    "score = int(score)  #将字符串转换为数字\n",
    "if score >= 90:\n",
    "    print(\"A\")\n",
    "if score >= 80 and score < 90:\n",
    "    print(\"B\")\n",
    "\n"
   ]
  },
  {
   "cell_type": "markdown",
   "metadata": {},
   "source": [
    "## 多路分支\n",
    "\n",
    "    if 条件表达式：\n",
    "        语句1\n",
    "        ...\n",
    "    elif 条件表达式：\n",
    "         语句1\n",
    "         ...\n",
    "         \n",
    "- python没有switch\n",
    "     "
   ]
  },
  {
   "cell_type": "code",
   "execution_count": 24,
   "metadata": {},
   "outputs": [
    {
     "name": "stdout",
     "output_type": "stream",
     "text": [
      "请输入学生成绩：89\n",
      "B\n"
     ]
    }
   ],
   "source": [
    "score = input(\"请输入学生成绩：\")\n",
    "score = int(score)\n",
    "\n",
    "if score >= 90:\n",
    "    print(\"A\")\n",
    "elif score >= 80 and score <90:\n",
    "    print(\"B\")\n",
    "else:\n",
    "    print(\"go out\")"
   ]
  },
  {
   "cell_type": "markdown",
   "metadata": {},
   "source": [
    "## 循环语句\n",
    "- for循环\n",
    "- while循环\n",
    "\n",
    "### for循环\n",
    "\n",
    "    for 变量 in 序列:\n",
    "        语句1\n",
    "        语句2\n",
    "        语句3\n",
    "        ...\n",
    "        "
   ]
  },
  {
   "cell_type": "code",
   "execution_count": 26,
   "metadata": {},
   "outputs": [
    {
     "name": "stdout",
     "output_type": "stream",
     "text": [
      "mo\n",
      "mm\n",
      "ll\n"
     ]
    }
   ],
   "source": [
    "# 列表  用中括号表示\n",
    "\n",
    "# 打印学生列表姓名\n",
    "\n",
    "for name in [\"mo\",\"mm\",\"ll\"]:\n",
    "    print(name)\n"
   ]
  },
  {
   "cell_type": "code",
   "execution_count": 28,
   "metadata": {},
   "outputs": [
    {
     "name": "stdout",
     "output_type": "stream",
     "text": [
      "mo\n",
      "I love mo\n",
      "o\n",
      "ll\n"
     ]
    }
   ],
   "source": [
    "for name in [\"mo\",\"o\",\"ll\"]:\n",
    "    print(name)\n",
    "    if name == \"mo\":\n",
    "        print(\"I love {0}\".format(name))"
   ]
  },
  {
   "cell_type": "markdown",
   "metadata": {},
   "source": [
    "## range介绍\n",
    "- 生成一个数字序列\n",
    "- 具体范围可以设定\n",
    "- range(1,10) 生成从1至10（不包含10包含1）\n",
    "- randint()两边都包含"
   ]
  },
  {
   "cell_type": "code",
   "execution_count": 30,
   "metadata": {},
   "outputs": [
    {
     "name": "stdout",
     "output_type": "stream",
     "text": [
      "1\n",
      "2\n",
      "3\n",
      "4\n",
      "5\n",
      "6\n",
      "7\n",
      "8\n",
      "9\n"
     ]
    }
   ],
   "source": [
    "# 打印从1-10的数字\n",
    "\n",
    "for i in range(1,10):\n",
    "    print(i)"
   ]
  },
  {
   "cell_type": "markdown",
   "metadata": {},
   "source": [
    "## 循环之break continue pass\n",
    "- break: 无条件结束整个循环，简称  循环猝死\n",
    "- continue： 无条件结束本次循环\n",
    "- pass： 表示路过 \n"
   ]
  },
  {
   "cell_type": "code",
   "execution_count": 36,
   "metadata": {},
   "outputs": [
    {
     "name": "stdout",
     "output_type": "stream",
     "text": [
      "1\n",
      "2\n",
      "3\n",
      "4\n",
      "5\n",
      "6\n",
      "7 it'you\n"
     ]
    }
   ],
   "source": [
    "# 在数字1-10中，找出数字7，并打印\n",
    "# 在python中，如果循环变量名称不重要，可以用下划线代替名称\n",
    "\n",
    "\n",
    "for i in range(1,11):\n",
    "    if i == 7:\n",
    "        print(\"{0} it'you\".format(i))\n",
    "        break\n",
    "    else:\n",
    "        print(i)\n",
    "    "
   ]
  },
  {
   "cell_type": "code",
   "execution_count": 37,
   "metadata": {},
   "outputs": [
    {
     "name": "stdout",
     "output_type": "stream",
     "text": [
      "1\n",
      "2\n",
      "3\n",
      "4\n",
      "5\n",
      "6\n",
      "7\n",
      "8\n",
      "9\n",
      "10\n"
     ]
    }
   ],
   "source": [
    "# pass例子，一般用于站位\n",
    "# 没有跳过功能\n",
    "\n",
    "for i in range(1,11):\n",
    "    pass\n",
    "    print(i)"
   ]
  },
  {
   "cell_type": "code",
   "execution_count": 2,
   "metadata": {},
   "outputs": [
    {
     "name": "stdout",
     "output_type": "stream",
     "text": [
      "this is house\n"
     ]
    }
   ],
   "source": [
    "print(\"this is %s\"%\"house\")"
   ]
  },
  {
   "cell_type": "markdown",
   "metadata": {},
   "source": [
    "## while循环\n",
    "- 当某条件成立时，循环\n",
    "- 语法：\n",
    "    \n",
    "    while 条件表达式:\n",
    "        语句块"
   ]
  },
  {
   "cell_type": "code",
   "execution_count": 3,
   "metadata": {},
   "outputs": [
    {
     "name": "stdout",
     "output_type": "stream",
     "text": [
      "第1年拿了10670.0块钱\n",
      "第2年拿了11384.89块钱\n",
      "第3年拿了12147.677629999998块钱\n",
      "第4年拿了12961.572031209998块钱\n",
      "第5年拿了13829.997357301068块钱\n",
      "第6年拿了14756.607180240238块钱\n",
      "第7年拿了15745.299861316334块钱\n",
      "第8年拿了16800.23495202453块钱\n",
      "第9年拿了17925.85069381017块钱\n",
      "第10年拿了19126.88269029545块钱\n",
      "第11年拿了20408.383830545245块钱\n",
      "终于翻倍了\n"
     ]
    }
   ],
   "source": [
    "benqian = 10000\n",
    "year = 0\n",
    "while benqian < 20000:\n",
    "    benqian = benqian * (1+0.067)\n",
    "    year += 1\n",
    "    print(\"第{0}年拿了{1}块钱\".format(year,benqian))\n",
    "else:\n",
    "    print(\"终于翻倍了\")"
   ]
  },
  {
   "cell_type": "code",
   "execution_count": null,
   "metadata": {},
   "outputs": [],
   "source": [
    "## 函数\n",
    "- 一个函数一般完成一个特定的功能\n",
    "- 函数使用\n",
    "    - 函数需要先定义\n",
    "    - 使用函数，即调用"
   ]
  },
  {
   "cell_type": "code",
   "execution_count": 5,
   "metadata": {},
   "outputs": [
    {
     "name": "stdout",
     "output_type": "stream",
     "text": [
      "我是一个函数\n",
      "我会完成一个特定的功能\n"
     ]
    }
   ],
   "source": [
    "# 定义一个函数，只是定义的话不会执行\n",
    "\n",
    "def func_name():\n",
    "    print(\"我是一个函数\")\n",
    "    print(\"我会完成一个特定的功能\")\n",
    "    \n",
    "func_name()"
   ]
  },
  {
   "cell_type": "code",
   "execution_count": 8,
   "metadata": {},
   "outputs": [
    {
     "name": "stdout",
     "output_type": "stream",
     "text": [
      "mo,hello\n"
     ]
    }
   ],
   "source": [
    "# 参数的定义和使用\n",
    "\n",
    "def hello(person):\n",
    "    print(\"{0},hello\".format(person))\n",
    "    \n",
    "hello(\"mo\")"
   ]
  },
  {
   "cell_type": "code",
   "execution_count": 11,
   "metadata": {},
   "outputs": [
    {
     "name": "stdout",
     "output_type": "stream",
     "text": [
      "mo,hello\n",
      "he is mo\n"
     ]
    }
   ],
   "source": [
    "#函数返回值\n",
    "# return \n",
    "# 如果函数没有return，默认返回一个None\n",
    "# 一旦遇到return，函数就结束了\n",
    "\n",
    "def hello(person):\n",
    "    print(\"{0},hello\".format(person))\n",
    "    return \"he is {0}\".format(person)\n",
    "\n",
    "person_one = \"mo\"\n",
    "\n",
    "rst = hello(person_one)\n",
    "print(rst)"
   ]
  },
  {
   "cell_type": "code",
   "execution_count": 12,
   "metadata": {},
   "outputs": [
    {
     "name": "stdout",
     "output_type": "stream",
     "text": [
      "Help on built-in function print in module builtins:\n",
      "\n",
      "print(...)\n",
      "    print(value, ..., sep=' ', end='\\n', file=sys.stdout, flush=False)\n",
      "    \n",
      "    Prints the values to a stream, or to sys.stdout by default.\n",
      "    Optional keyword arguments:\n",
      "    file:  a file-like object (stream); defaults to the current sys.stdout.\n",
      "    sep:   string inserted between values, default a space.\n",
      "    end:   string appended after the last value, default a newline.\n",
      "    flush: whether to forcibly flush the stream.\n",
      "\n"
     ]
    }
   ],
   "source": [
    "# 查找函数帮助文档\n",
    "# 1. 用help函数\n",
    "\n",
    "help(print)"
   ]
  },
  {
   "cell_type": "code",
   "execution_count": 18,
   "metadata": {},
   "outputs": [
    {
     "name": "stdout",
     "output_type": "stream",
     "text": [
      "1 \n",
      "2 4 \n",
      "3 6 9 \n",
      "4 8 12 16 \n",
      "5 10 15 20 25 \n",
      "6 12 18 24 30 36 \n",
      "7 14 21 28 35 42 49 \n",
      "8 16 24 32 40 48 56 64 \n",
      "9 18 27 36 45 54 63 72 81 \n"
     ]
    }
   ],
   "source": [
    "# 九九乘法表\n",
    "\n",
    "for row in range(1,10):\n",
    "    for col in range(1,row+1):\n",
    "        print(row * col,end = \" \") # print()函数默认打印完成后自动换行\n",
    "    print(\"\")"
   ]
  },
  {
   "cell_type": "markdown",
   "metadata": {},
   "source": [
    "- 默认参数\n",
    "    - 形参带有默认值\n",
    "    - 调用的时候，如果没有对相应的形参赋值，则使用默认值"
   ]
  },
  {
   "cell_type": "code",
   "execution_count": 22,
   "metadata": {},
   "outputs": [],
   "source": [
    "def reg(name,age,gender = \"male\"):\n",
    "    if gender == \"male\":\n",
    "        print(\"{0} is {1},and he is a good student\".format(name,age))\n",
    "    else:\n",
    "        print(\"{0} is {1},and she is a good student\".format(name,age))"
   ]
  },
  {
   "cell_type": "code",
   "execution_count": 23,
   "metadata": {},
   "outputs": [
    {
     "name": "stdout",
     "output_type": "stream",
     "text": [
      "mingyue is 21,and he is a good student\n"
     ]
    }
   ],
   "source": [
    "reg(\"mingyue\",21)"
   ]
  },
  {
   "cell_type": "markdown",
   "metadata": {},
   "source": [
    "## 四类参数\n",
    "\n",
    "- 普通参数\n",
    "- 默认参数\n",
    "- 关键字参数\n",
    "- 收集参数\n",
    "\n",
    "### 关键字参数\n",
    "- 语法\n",
    "    \n",
    "    "
   ]
  },
  {
   "cell_type": "code",
   "execution_count": 4,
   "metadata": {},
   "outputs": [
    {
     "name": "stdout",
     "output_type": "stream",
     "text": [
      "I am a student\n",
      "我是jingjing,今年18岁，住在home\n"
     ]
    }
   ],
   "source": [
    "# 关键字参数\n",
    "\n",
    "def stu(name=\"no name\", age=0, addr=\"no home\"):\n",
    "    print(\"I am a student\")\n",
    "    print(\"我是{0},今年{1}岁，住在{2}\".format(name,age,addr))\n",
    "    \n",
    "n = \"jingjing\"\n",
    "a = 18\n",
    "addr = \"home\"\n",
    "\n",
    "# 普通参数，只是按照位置传递\n",
    "stu(age=a, name=n, addr=addr)"
   ]
  },
  {
   "cell_type": "markdown",
   "metadata": {},
   "source": [
    "## 收集参数\n",
    "- 把多出来的参数放在一个特定的数据结构中\n",
    "- 在参数个数不确定时使用收集参数\n",
    " \n",
    "        def func(*args):\n",
    "            func_body\n",
    "        \n",
    "         调用\n",
    "         func(p1, p2, p3, ......)\n",
    "- 参数名args前要有一个*\n",
    "- 收集参数可以和其他参数共存"
   ]
  },
  {
   "cell_type": "code",
   "execution_count": 14,
   "metadata": {},
   "outputs": [
    {
     "name": "stdout",
     "output_type": "stream",
     "text": [
      "hello, 大家好\n",
      "<class 'tuple'>\n",
      "liuying\n",
      "18\n",
      "北京\n",
      "hello, 大家好\n",
      "<class 'tuple'>\n",
      "mo\n"
     ]
    }
   ],
   "source": [
    "\n",
    "def stu(*args):\n",
    "    print(\"hello, 大家好\")\n",
    "    print(type(args))\n",
    "    for item in args:\n",
    "        print(item)\n",
    "\n",
    "stu(\"liuying\", 18, \"北京\")\n",
    "stu(\"mo\")"
   ]
  },
  {
   "cell_type": "markdown",
   "metadata": {},
   "source": [
    "# 关键字收集参数\n",
    "- 语法\n",
    "\n",
    "        def func(**kargs):\n",
    "            func_body\n",
    "        # 调用\n",
    "        func(p1=v1, p2=v2, p3=v3, ...)"
   ]
  },
  {
   "cell_type": "code",
   "execution_count": 2,
   "metadata": {},
   "outputs": [
    {
     "name": "stdout",
     "output_type": "stream",
     "text": [
      "<class 'dict'>\n",
      "name -- liuying\n",
      "age -- 19\n",
      "addr -- home\n"
     ]
    }
   ],
   "source": [
    "def stu(**kwargs):\n",
    "    print(type(kwargs))\n",
    "    # 遍历字典的方法\n",
    "    for k, v in kwargs.items():\n",
    "        print(k, \"--\", v)\n",
    "        \n",
    "stu(name=\"liuying\", age=19, addr=\"home\")"
   ]
  },
  {
   "cell_type": "code",
   "execution_count": 22,
   "metadata": {},
   "outputs": [
    {
     "name": "stdout",
     "output_type": "stream",
     "text": [
      "my name is mo, 22 years old\n",
      "my hobby is computer game\n",
      "--------------------\n",
      "huanhuan\n",
      "--------------------\n",
      "girlfriends : huanhuan\n"
     ]
    }
   ],
   "source": [
    "# 普通参数、关键字参数、收集参数的混合使用\n",
    "\n",
    "def stu(name, age, *args, hobby=\"nothing\", **kwargs):\n",
    "    print(\"my name is {0}, {1} years old\".format(name, age))\n",
    "    if hobby == \"noting\":\n",
    "        print(\"我没有爱好，sorry\")\n",
    "    else:\n",
    "        print(\"my hobby is {0}\".format(hobby))\n",
    "        \n",
    "    print(\"-\" * 20)\n",
    "              \n",
    "    for item in args:\n",
    "        print(item)\n",
    "        \n",
    "    print(\"-\" * 20) \n",
    "              \n",
    "    for k, v in kwargs.items():\n",
    "        print(k, \":\", v)\n",
    "        \n",
    "#调用函数\n",
    "stu(\"mo\", 22, \"huanhuan\", hobby=\"computer game\", girlfriends=\"huanhuan\")\n",
    "    "
   ]
  },
  {
   "cell_type": "markdown",
   "metadata": {},
   "source": [
    "## 参数相当于分为两大阵营：\n",
    "\n",
    "- 普通参数\n",
    "    - 普通的参数\n",
    "    - 普通收集参数\n",
    "- 关键字参数\n",
    "    - 普通的关键字参数\n",
    "    - 关键字收集参数"
   ]
  },
  {
   "cell_type": "markdown",
   "metadata": {},
   "source": [
    "## 列表、字典的解包\n",
    "- 列表的解包\n",
    "    - 在列表名称前加一个星号\n",
    "    \n",
    "- 字典的解包\n",
    "    - 加两个星号"
   ]
  },
  {
   "cell_type": "markdown",
   "metadata": {},
   "source": [
    "# 函数文档\n",
    "- 函数文档的作用是对当前函数提供参考信息\n",
    "- 别人可以通过help函数查看函数的帮助文档\n",
    "- 文档的写法\n",
    "    - 在函数内部开始的第一行使用三引号字符\n",
    "    \n",
    "- 文档的查看\n",
    "    - 使用help函数\n",
    "    - 使用__doc__,例如：func.__doc__"
   ]
  },
  {
   "cell_type": "code",
   "execution_count": 26,
   "metadata": {},
   "outputs": [
    {
     "name": "stdout",
     "output_type": "stream",
     "text": [
      "Help on function func in module __main__:\n",
      "\n",
      "func(name, age, *args)\n",
      "    文档内容\n",
      "    文档内容\n",
      "    文档内容\n",
      "\n"
     ]
    }
   ],
   "source": [
    "# 函数文档案例\n",
    "\n",
    "def func(name, age, *args):\n",
    "    '''\n",
    "    文档内容\n",
    "    文档内容\n",
    "    文档内容\n",
    "    \n",
    "    '''\n",
    "    print(\"this is a function document\")\n",
    "    \n",
    "help(func)"
   ]
  },
  {
   "cell_type": "code",
   "execution_count": 28,
   "metadata": {},
   "outputs": [
    {
     "name": "stdout",
     "output_type": "stream",
     "text": [
      "\n",
      "    文档内容\n",
      "    文档内容\n",
      "    文档内容\n",
      "    \n",
      "    \n"
     ]
    }
   ],
   "source": [
    "print(func.__doc__)"
   ]
  },
  {
   "cell_type": "markdown",
   "metadata": {},
   "source": [
    "## 变量作用域\n",
    "- 分类\n",
    "    - 全局：函数外定义\n",
    "    - 局部：函数内定义"
   ]
  },
  {
   "cell_type": "markdown",
   "metadata": {},
   "source": [
    "## 提升局部变量为全局变量\n",
    "- 使用global"
   ]
  },
  {
   "cell_type": "code",
   "execution_count": 50,
   "metadata": {},
   "outputs": [
    {
     "name": "stdout",
     "output_type": "stream",
     "text": [
      "4\n"
     ]
    }
   ],
   "source": [
    "# ???????????????\n",
    "\n",
    "def fun():\n",
    "    global a \n",
    "    a = 4\n",
    "    return None\n",
    "fun()\n",
    "print(a)"
   ]
  },
  {
   "cell_type": "markdown",
   "metadata": {},
   "source": [
    "## globals函数，locals函数\n",
    "- 使用这两个函数可以查看全局变量、局部变量"
   ]
  },
  {
   "cell_type": "code",
   "execution_count": 3,
   "metadata": {},
   "outputs": [
    {
     "name": "stdout",
     "output_type": "stream",
     "text": [
      "{'__name__': '__main__', '__doc__': 'Automatically created module for IPython interactive environment', '__package__': None, '__loader__': None, '__spec__': None, '__builtin__': <module 'builtins' (built-in)>, '__builtins__': <module 'builtins' (built-in)>, '_ih': ['', '## 变量作用域\\n- 分类\\n    - 全局：函数外定义\\n    - 局部：函数内定义', '# ???????????????\\n\\ndef fun():\\n    global ', 'a = 1\\nb =2 \\n\\ndef fun(c, d):\\n    e = 111\\n    print(globals())\\n    print(locals())\\n    \\n    \\nfun(2, 1)'], '_oh': {}, '_dh': ['C:\\\\Users\\\\mo\\\\Documents'], 'In': ['', '## 变量作用域\\n- 分类\\n    - 全局：函数外定义\\n    - 局部：函数内定义', '# ???????????????\\n\\ndef fun():\\n    global ', 'a = 1\\nb =2 \\n\\ndef fun(c, d):\\n    e = 111\\n    print(globals())\\n    print(locals())\\n    \\n    \\nfun(2, 1)'], 'Out': {}, 'get_ipython': <bound method InteractiveShell.get_ipython of <ipykernel.zmqshell.ZMQInteractiveShell object at 0x000001A41958DA20>>, 'exit': <IPython.core.autocall.ZMQExitAutocall object at 0x000001A4195DEFD0>, 'quit': <IPython.core.autocall.ZMQExitAutocall object at 0x000001A4195DEFD0>, '_': '', '__': '', '___': '', '_i': '# ???????????????\\n\\ndef fun():\\n    global ', '_ii': '## 变量作用域\\n- 分类\\n    - 全局：函数外定义\\n    - 局部：函数内定义', '_iii': '', '_i1': '## 变量作用域\\n- 分类\\n    - 全局：函数外定义\\n    - 局部：函数内定义', '_i2': '# ???????????????\\n\\ndef fun():\\n    global ', '_i3': 'a = 1\\nb =2 \\n\\ndef fun(c, d):\\n    e = 111\\n    print(globals())\\n    print(locals())\\n    \\n    \\nfun(2, 1)', 'a': 1, 'b': 2, 'fun': <function fun at 0x000001A4196F5048>}\n",
      "{'e': 111, 'd': 1, 'c': 2}\n"
     ]
    }
   ],
   "source": [
    "a = 1\n",
    "b =2 \n",
    "\n",
    "def fun(c, d):\n",
    "    e = 111\n",
    "    print(globals())\n",
    "    print(locals())\n",
    "    \n",
    "    \n",
    "fun(2, 1)"
   ]
  },
  {
   "cell_type": "markdown",
   "metadata": {},
   "source": [
    "## eval()函数\n",
    "- 把一个字符串当成一个表达式来执行,并返回值\n",
    "\n",
    "## exec()函数\n",
    "- 同eval（），但没有返回值"
   ]
  },
  {
   "cell_type": "code",
   "execution_count": 5,
   "metadata": {},
   "outputs": [
    {
     "name": "stdout",
     "output_type": "stream",
     "text": [
      "400\n"
     ]
    }
   ],
   "source": [
    "x = 100 \n",
    "y = 300\n",
    "\n",
    "z = eval(\"x+y\")\n",
    "print(z)"
   ]
  },
  {
   "cell_type": "markdown",
   "metadata": {},
   "source": [
    "# 递归函数\n",
    "- 函数直接或间接的调用自身\n",
    "- python对递归深度有限制"
   ]
  },
  {
   "cell_type": "code",
   "execution_count": 11,
   "metadata": {},
   "outputs": [
    {
     "name": "stdout",
     "output_type": "stream",
     "text": [
      "1\n",
      "2\n",
      "3\n",
      "4\n",
      "5\n",
      "6\n",
      "7\n",
      "8\n",
      "9\n",
      "10\n",
      "11\n",
      "12\n",
      "13\n",
      "14\n",
      "15\n",
      "16\n",
      "17\n",
      "18\n",
      "19\n",
      "20\n",
      "21\n",
      "22\n",
      "23\n",
      "24\n",
      "25\n",
      "26\n",
      "27\n",
      "28\n",
      "29\n",
      "30\n",
      "31\n",
      "32\n",
      "33\n",
      "34\n",
      "35\n",
      "36\n",
      "37\n",
      "38\n",
      "39\n",
      "40\n",
      "41\n",
      "42\n",
      "43\n",
      "44\n",
      "45\n",
      "46\n",
      "47\n",
      "48\n",
      "49\n",
      "50\n",
      "51\n",
      "52\n",
      "53\n",
      "54\n",
      "55\n",
      "56\n",
      "57\n",
      "58\n",
      "59\n",
      "60\n",
      "61\n",
      "62\n",
      "63\n",
      "64\n",
      "65\n",
      "66\n",
      "67\n",
      "68\n",
      "69\n",
      "70\n",
      "71\n",
      "72\n",
      "73\n",
      "74\n",
      "75\n",
      "76\n",
      "77\n",
      "78\n",
      "79\n",
      "80\n",
      "81\n",
      "82\n",
      "83\n",
      "84\n",
      "85\n",
      "86\n",
      "87\n",
      "88\n",
      "89\n",
      "90\n",
      "91\n",
      "92\n",
      "93\n",
      "94\n",
      "95\n",
      "96\n",
      "97\n",
      "98\n",
      "99\n",
      "100\n"
     ]
    }
   ],
   "source": [
    "x = 0\n",
    "\n",
    "def fun():\n",
    "    global x\n",
    "    x += 1\n",
    "    print(x)\n",
    "    if x >= 100:\n",
    "        return x\n",
    "    fun()\n",
    "    \n",
    "fun()"
   ]
  },
  {
   "cell_type": "code",
   "execution_count": 14,
   "metadata": {},
   "outputs": [
    {
     "name": "stdout",
     "output_type": "stream",
     "text": [
      "3\n",
      "21\n"
     ]
    }
   ],
   "source": [
    "# 斐波那契数列\n",
    "# 一列数字，前两个数均为1，从第三个开始，每个数字等于前两数之和\n",
    "# 例如： 1,1,2,3,5,8,13，......\n",
    "\n",
    "\n",
    "# n表示第n个数字的值\n",
    "def fib(n):\n",
    "    if n == 1:\n",
    "        return 1\n",
    "    if n == 2:\n",
    "        return 1\n",
    "    \n",
    "    return fib(n-1) + fib(n-2)\n",
    "\n",
    "print(fib(4))\n",
    "print(fib(8))"
   ]
  },
  {
   "cell_type": "markdown",
   "metadata": {},
   "source": [
    "## 内置数据结构\n",
    "\n",
    "- list\n",
    "- set\n",
    "- dict\n",
    "- tuple\n",
    "\n",
    "### list（列表）\n",
    "- 一组有顺序的数据的组合，相当于c语言中的数组\n",
    "- 创建列表\n",
    "    "
   ]
  },
  {
   "cell_type": "code",
   "execution_count": 22,
   "metadata": {},
   "outputs": [
    {
     "name": "stdout",
     "output_type": "stream",
     "text": [
      "<class 'list'>\n",
      "[]\n",
      "[1, 2, 3, 4]\n",
      "[]\n",
      "Help on class list in module builtins:\n",
      "\n",
      "class list(object)\n",
      " |  list() -> new empty list\n",
      " |  list(iterable) -> new list initialized from iterable's items\n",
      " |  \n",
      " |  Methods defined here:\n",
      " |  \n",
      " |  __add__(self, value, /)\n",
      " |      Return self+value.\n",
      " |  \n",
      " |  __contains__(self, key, /)\n",
      " |      Return key in self.\n",
      " |  \n",
      " |  __delitem__(self, key, /)\n",
      " |      Delete self[key].\n",
      " |  \n",
      " |  __eq__(self, value, /)\n",
      " |      Return self==value.\n",
      " |  \n",
      " |  __ge__(self, value, /)\n",
      " |      Return self>=value.\n",
      " |  \n",
      " |  __getattribute__(self, name, /)\n",
      " |      Return getattr(self, name).\n",
      " |  \n",
      " |  __getitem__(...)\n",
      " |      x.__getitem__(y) <==> x[y]\n",
      " |  \n",
      " |  __gt__(self, value, /)\n",
      " |      Return self>value.\n",
      " |  \n",
      " |  __iadd__(self, value, /)\n",
      " |      Implement self+=value.\n",
      " |  \n",
      " |  __imul__(self, value, /)\n",
      " |      Implement self*=value.\n",
      " |  \n",
      " |  __init__(self, /, *args, **kwargs)\n",
      " |      Initialize self.  See help(type(self)) for accurate signature.\n",
      " |  \n",
      " |  __iter__(self, /)\n",
      " |      Implement iter(self).\n",
      " |  \n",
      " |  __le__(self, value, /)\n",
      " |      Return self<=value.\n",
      " |  \n",
      " |  __len__(self, /)\n",
      " |      Return len(self).\n",
      " |  \n",
      " |  __lt__(self, value, /)\n",
      " |      Return self<value.\n",
      " |  \n",
      " |  __mul__(self, value, /)\n",
      " |      Return self*value.n\n",
      " |  \n",
      " |  __ne__(self, value, /)\n",
      " |      Return self!=value.\n",
      " |  \n",
      " |  __new__(*args, **kwargs) from builtins.type\n",
      " |      Create and return a new object.  See help(type) for accurate signature.\n",
      " |  \n",
      " |  __repr__(self, /)\n",
      " |      Return repr(self).\n",
      " |  \n",
      " |  __reversed__(...)\n",
      " |      L.__reversed__() -- return a reverse iterator over the list\n",
      " |  \n",
      " |  __rmul__(self, value, /)\n",
      " |      Return self*value.\n",
      " |  \n",
      " |  __setitem__(self, key, value, /)\n",
      " |      Set self[key] to value.\n",
      " |  \n",
      " |  __sizeof__(...)\n",
      " |      L.__sizeof__() -- size of L in memory, in bytes\n",
      " |  \n",
      " |  append(...)\n",
      " |      L.append(object) -> None -- append object to end\n",
      " |  \n",
      " |  clear(...)\n",
      " |      L.clear() -> None -- remove all items from L\n",
      " |  \n",
      " |  copy(...)\n",
      " |      L.copy() -> list -- a shallow copy of L\n",
      " |  \n",
      " |  count(...)\n",
      " |      L.count(value) -> integer -- return number of occurrences of value\n",
      " |  \n",
      " |  extend(...)\n",
      " |      L.extend(iterable) -> None -- extend list by appending elements from the iterable\n",
      " |  \n",
      " |  index(...)\n",
      " |      L.index(value, [start, [stop]]) -> integer -- return first index of value.\n",
      " |      Raises ValueError if the value is not present.\n",
      " |  \n",
      " |  insert(...)\n",
      " |      L.insert(index, object) -- insert object before index\n",
      " |  \n",
      " |  pop(...)\n",
      " |      L.pop([index]) -> item -- remove and return item at index (default last).\n",
      " |      Raises IndexError if list is empty or index is out of range.\n",
      " |  \n",
      " |  remove(...)\n",
      " |      L.remove(value) -> None -- remove first occurrence of value.\n",
      " |      Raises ValueError if the value is not present.\n",
      " |  \n",
      " |  reverse(...)\n",
      " |      L.reverse() -- reverse *IN PLACE*\n",
      " |  \n",
      " |  sort(...)\n",
      " |      L.sort(key=None, reverse=False) -> None -- stable sort *IN PLACE*\n",
      " |  \n",
      " |  ----------------------------------------------------------------------\n",
      " |  Data and other attributes defined here:\n",
      " |  \n",
      " |  __hash__ = None\n",
      "\n"
     ]
    }
   ],
   "source": [
    "# 创建空列表\n",
    "\n",
    "l = []\n",
    "print(type(l))\n",
    "print(l)\n",
    "\n",
    "l1 = [1, 2, 3, 4]\n",
    "print(l1)\n",
    "\n",
    "# 使用list()\n",
    "l2 = list()\n",
    "print(l2)\n",
    "\n",
    "help(list)\n",
    "# 通过help函数可知，list()用来创建空列表"
   ]
  },
  {
   "cell_type": "markdown",
   "metadata": {},
   "source": [
    "# 列表常用操作\n",
    "- 访问\n",
    "    - 使用下标操作，从0开始\n",
    "- 分片操作(截取)\n",
    "    - 对列表进行任意一段的截取\n",
    "    - l[ : ]，  冒号两边写下标，包含左，不包含右\n",
    "    "
   ]
  },
  {
   "cell_type": "code",
   "execution_count": 31,
   "metadata": {},
   "outputs": [
    {
     "name": "stdout",
     "output_type": "stream",
     "text": [
      "1\n",
      "4\n"
     ]
    }
   ],
   "source": [
    "# 通过下表访问列表\n",
    "\n",
    "l = [1, 2, 3, 4, 5, 6]\n",
    "\n",
    "print(l[0])\n",
    "print(l[3])"
   ]
  },
  {
   "cell_type": "code",
   "execution_count": 39,
   "metadata": {},
   "outputs": [
    {
     "name": "stdout",
     "output_type": "stream",
     "text": [
      "[2, 3]\n",
      "[2, 4]\n",
      "6\n",
      "[1, 2, 3, 4, 5, 6]\n",
      "[]\n",
      "[3, 4]\n",
      "[5, 4]\n",
      "[6, 5, 4, 3, 2, 1]\n"
     ]
    }
   ],
   "source": [
    "# 列表分片（截取）\n",
    "\n",
    "print(l[1:3])\n",
    "\n",
    "# 分片可以控制增长幅度，默认为1\n",
    "print(l[1:4:2])\n",
    "\n",
    "# 下标、增长幅度多可以是负值\n",
    "# 即从右边开始数，右边第一个下标为-1\n",
    "\n",
    "print(l[-1])\n",
    "print(l)\n",
    "\n",
    "# 下面显示为空列表，因为默认分片总是从左向右截取\n",
    "#因此，分片冒号左边的数要小于右边\n",
    "print(l[-1:-4])\n",
    "\n",
    "print(l[-4:-2])\n",
    "\n",
    "# 如果一定要左边的数大于右边，则步长参数要用负数\n",
    "# 这种方法可以用来倒序列表\n",
    "print(l[-2:-4:-1])\n",
    "\n",
    "print(l[ : :-1])\n"
   ]
  },
  {
   "cell_type": "markdown",
   "metadata": {},
   "source": [
    "## id函数\n",
    "- 显示一个变量或数据的唯一编号"
   ]
  },
  {
   "cell_type": "code",
   "execution_count": 41,
   "metadata": {},
   "outputs": [
    {
     "name": "stdout",
     "output_type": "stream",
     "text": [
      "1689480256\n",
      "1689480288\n",
      "1689480256\n"
     ]
    }
   ],
   "source": [
    "a = 1\n",
    "b = 2\n",
    "\n",
    "c = a\n",
    "\n",
    "print(id(a))\n",
    "print(id(b))\n",
    "print(id(c))"
   ]
  },
  {
   "cell_type": "code",
   "execution_count": 44,
   "metadata": {},
   "outputs": [
    {
     "name": "stdout",
     "output_type": "stream",
     "text": [
      "1804318329032\n",
      "1804312074824\n"
     ]
    }
   ],
   "source": [
    "# 通过id可以判断分片是不是重新生成的数据\n",
    "\n",
    "l = [1, 2, 3, 3, 4, 6]\n",
    "ll = l[ : ]\n",
    "\n",
    "print(id(l))\n",
    "print(id(ll))\n",
    "\n",
    "# 可以得出列表分片是新生成一个列表"
   ]
  },
  {
   "cell_type": "code",
   "execution_count": 5,
   "metadata": {},
   "outputs": [
    {
     "name": "stdout",
     "output_type": "stream",
     "text": [
      "1646160960\n",
      "1646160960\n",
      "2\n",
      "1\n"
     ]
    }
   ],
   "source": [
    "a = 1 \n",
    "b = a\n",
    "print(id(a))\n",
    "print(id(b))\n",
    "a = 2\n",
    "\n",
    "print(a)\n",
    "print(b)"
   ]
  },
  {
   "cell_type": "code",
   "execution_count": 6,
   "metadata": {},
   "outputs": [
    {
     "name": "stdout",
     "output_type": "stream",
     "text": [
      "[1, 2, 3, 4]\n",
      "2384742142216\n",
      "[1, 2, 3, 4]\n",
      "2384742142216\n"
     ]
    }
   ],
   "source": [
    "a = [1, 2, 3, 4]\n",
    "print(a)\n",
    "print(id(a))\n",
    "b = a\n",
    "print(b)\n",
    "print(id(b))\n"
   ]
  },
  {
   "cell_type": "markdown",
   "metadata": {},
   "source": [
    "## list\n",
    "- del: 删除命令"
   ]
  },
  {
   "cell_type": "code",
   "execution_count": 7,
   "metadata": {},
   "outputs": [
    {
     "name": "stdout",
     "output_type": "stream",
     "text": [
      "2384742240392\n",
      "[1, 2, 3, 4, 5]\n",
      "2384742240392\n",
      "[1, 2, 4, 5]\n"
     ]
    }
   ],
   "source": [
    "# del删除\n",
    "\n",
    "a = [1, 2, 3, 4, 5]\n",
    "print(id(a))\n",
    "print(a)\n",
    "del a[2]\n",
    "print(id(a))\n",
    "print(a)"
   ]
  },
  {
   "cell_type": "code",
   "execution_count": 9,
   "metadata": {},
   "outputs": [
    {
     "name": "stdout",
     "output_type": "stream",
     "text": [
      "[1, 2, 3, 4, 5, 6, 7, 8]\n"
     ]
    }
   ],
   "source": [
    "# 使用加号连接列表\n",
    "\n",
    "a = [1, 2, 3, 4, 5]\n",
    "b = [6, 7, 8]\n",
    "\n",
    "print(a + b)"
   ]
  },
  {
   "cell_type": "code",
   "execution_count": 11,
   "metadata": {},
   "outputs": [
    {
     "name": "stdout",
     "output_type": "stream",
     "text": [
      "True\n"
     ]
    }
   ],
   "source": [
    "# 成员运算符判断一个元素是否在list中\n",
    "\n",
    "a = [1, 2, 3, 4]\n",
    "b = 4\n",
    "\n",
    "c = b in a\n",
    "print(c)"
   ]
  },
  {
   "cell_type": "markdown",
   "metadata": {},
   "source": [
    "## 列表的遍历\n",
    "- for \n",
    "- while\n"
   ]
  },
  {
   "cell_type": "code",
   "execution_count": 13,
   "metadata": {},
   "outputs": [
    {
     "name": "stdout",
     "output_type": "stream",
     "text": [
      "1\n",
      "2\n",
      "3\n",
      "4\n",
      "4\n"
     ]
    }
   ],
   "source": [
    "# in 后面的变量要求是可迭代的\n",
    "\n",
    "a = [1, 2, 3, 4, 4]\n",
    "\n",
    "for i in a:\n",
    "    print(i)"
   ]
  },
  {
   "cell_type": "code",
   "execution_count": 15,
   "metadata": {},
   "outputs": [
    {
     "name": "stdout",
     "output_type": "stream",
     "text": [
      "one -- 1\n",
      "two -- 2\n",
      "three -- 3\n"
     ]
    }
   ],
   "source": [
    "# 双层列表\n",
    "\n",
    "a = [[\"one\", 1], [\"two\", 2], [\"three\", 3]]\n",
    "\n",
    "for k, v in a:\n",
    "    print(k, \"--\", v)"
   ]
  },
  {
   "cell_type": "markdown",
   "metadata": {},
   "source": [
    "# 列表内涵\n",
    "- 通过简单方法创建列表"
   ]
  },
  {
   "cell_type": "code",
   "execution_count": 16,
   "metadata": {},
   "outputs": [
    {
     "name": "stdout",
     "output_type": "stream",
     "text": [
      "[1, 2, 3, 4]\n"
     ]
    }
   ],
   "source": [
    "a = [1, 2, 3, 4]\n",
    "\n",
    "#用list a 创建一个list b\n",
    "\n",
    "b = [i for i in a]\n",
    "print(b)"
   ]
  },
  {
   "cell_type": "code",
   "execution_count": 17,
   "metadata": {},
   "outputs": [
    {
     "name": "stdout",
     "output_type": "stream",
     "text": [
      "[10, 20, 30, 40]\n"
     ]
    }
   ],
   "source": [
    "a = [1, 2, 3, 4]\n",
    "\n",
    "#用list a 创建一个list b\n",
    "\n",
    "b = [i*10 for i in a]\n",
    "print(b)"
   ]
  },
  {
   "cell_type": "code",
   "execution_count": 19,
   "metadata": {},
   "outputs": [
    {
     "name": "stdout",
     "output_type": "stream",
     "text": [
      "[2, 4, 6, 8, 10, 12, 14, 16, 18, 20, 22, 24, 26, 28]\n"
     ]
    }
   ],
   "source": [
    "a = [x for x in range(1,30)]\n",
    "\n",
    "# 遍历列表a 如果为偶数 放入列表b\n",
    "b = [m for m in a if m % 2 == 0]\n",
    "print(b)"
   ]
  },
  {
   "cell_type": "code",
   "execution_count": 23,
   "metadata": {},
   "outputs": [
    {
     "name": "stdout",
     "output_type": "stream",
     "text": [
      "[1, 2, 3]\n",
      "[20, 21, 22, 23, 24, 25, 26, 27, 28, 29, 30, 31, 32, 33, 34, 35, 36, 37, 38, 39]\n",
      "[21, 22, 23, 24, 25, 26, 27, 28, 29, 30, 31, 32, 33, 34, 35, 36, 37, 38, 39, 40, 22, 23, 24, 25, 26, 27, 28, 29, 30, 31, 32, 33, 34, 35, 36, 37, 38, 39, 40, 41, 23, 24, 25, 26, 27, 28, 29, 30, 31, 32, 33, 34, 35, 36, 37, 38, 39, 40, 41, 42]\n",
      "21 22 23 24 25 26 27 28 29 30 31 32 33 34 35 36 37 38 39 40 22 23 24 25 26 27 28 29 30 31 32 33 34 35 36 37 38 39 40 41 23 24 25 26 27 28 29 30 31 32 33 34 35 36 37 38 39 40 41 42 \n"
     ]
    }
   ],
   "source": [
    "# 列表生成式可以嵌套\n",
    "\n",
    "a = [i for i in range(1, 4)]\n",
    "print(a)\n",
    "\n",
    "b = [i for i in range(20, 40)]\n",
    "print(b)\n",
    "\n",
    "c = [m+n for m in a for n in b]\n",
    "print(c)\n",
    "\n",
    "\n",
    "# 与下面等价\n",
    "\n",
    "for m in a:\n",
    "    for n in b:\n",
    "        print(m+n, end=\" \")\n",
    "print()"
   ]
  },
  {
   "cell_type": "code",
   "execution_count": 25,
   "metadata": {},
   "outputs": [
    {
     "name": "stdout",
     "output_type": "stream",
     "text": [
      "4\n",
      "4\n",
      "python\n",
      "1\n",
      "['i', ' ', 'l', 'o', 'v', 'e', ' ', 'y', 'o', 'u']\n"
     ]
    }
   ],
   "source": [
    "# 关于列表的常用函数\n",
    "\n",
    "# len 长度\n",
    "\n",
    "a = [1, 2, 3, 4]\n",
    "print(len(a))\n",
    "\n",
    "# max 最大值\n",
    "\n",
    "print(max(a))\n",
    "\n",
    "b = [\"man\", \"film\", \"python\"]\n",
    "print(max(b))\n",
    "\n",
    "# min 最小值\n",
    "\n",
    "print(min(a))\n",
    "\n",
    "# list函数   将其他格式的数据转换成list\n",
    "\n",
    "s = \"i love you\"\n",
    "print(list(s))"
   ]
  },
  {
   "cell_type": "code",
   "execution_count": 2,
   "metadata": {},
   "outputs": [
    {
     "name": "stdout",
     "output_type": "stream",
     "text": [
      "[1, 2, 3, 4, 5]\n",
      "[1, 100, 3, 4, 5]\n",
      "[1, 100, 3, 4, 5]\n",
      "0\n",
      "100\n",
      "0\n"
     ]
    }
   ],
   "source": [
    "# 传值与传址的问题\n",
    "\n",
    "def fun_1(n):\n",
    "    n[1] = 100\n",
    "    print(n)\n",
    "    return None\n",
    "\n",
    "def fun_2(m):\n",
    "    m += 100\n",
    "    print(m)\n",
    "    return None\n",
    "\n",
    "a = [1, 2, 3, 4, 5]\n",
    "b = 0\n",
    "\n",
    "print(a)\n",
    "fun_1(a)\n",
    "print(a)\n",
    "\n",
    "print(b)\n",
    "fun_2(b)\n",
    "print(b)"
   ]
  },
  {
   "cell_type": "code",
   "execution_count": 3,
   "metadata": {},
   "outputs": [
    {
     "name": "stdout",
     "output_type": "stream",
     "text": [
      "[1, 2, 3, 4]\n",
      "[1, 2, 3, 4, 20]\n"
     ]
    }
   ],
   "source": [
    "# append 在末尾追加\n",
    "\n",
    "a = [i for i in range(1,5)]\n",
    "print(a)\n",
    "a.append(20)\n",
    "print(a)"
   ]
  },
  {
   "cell_type": "code",
   "execution_count": 4,
   "metadata": {},
   "outputs": [
    {
     "name": "stdout",
     "output_type": "stream",
     "text": [
      "[1, 2, 3, 4, 20]\n",
      "[1, 50, 2, 3, 4, 20]\n"
     ]
    }
   ],
   "source": [
    "# insert 插入\n",
    "# insert(index,data)\n",
    "\n",
    "print(a)\n",
    "a.insert(1, 50)\n",
    "print(a)"
   ]
  },
  {
   "cell_type": "code",
   "execution_count": 9,
   "metadata": {},
   "outputs": [
    {
     "name": "stdout",
     "output_type": "stream",
     "text": [
      "[1]\n",
      "1\n",
      "[]\n",
      "[2]\n",
      "2257757997896\n",
      "[]\n",
      "2257757997896\n"
     ]
    }
   ],
   "source": [
    "# 删除\n",
    "# del 直接删除\n",
    "# pop 将最后一个拿出来\n",
    "\n",
    "print(a)\n",
    "last = a.pop()\n",
    "print(last)\n",
    "print(a)\n",
    "\n",
    "# remove 删除指定的值的元素\n",
    "a.append(2)\n",
    "print(a)\n",
    "print(id(a))\n",
    "a.remove(2)\n",
    "print(a)\n",
    "print(id(a))"
   ]
  },
  {
   "cell_type": "code",
   "execution_count": 12,
   "metadata": {},
   "outputs": [
    {
     "name": "stdout",
     "output_type": "stream",
     "text": [
      "[1, 2, 3, 4, 5, 6]\n",
      "2257758611272\n",
      "[]\n",
      "2257758611272\n"
     ]
    }
   ],
   "source": [
    "# clear 清空\n",
    "# 虽然清空，但是列表还是原来的，只是变成了空列表\n",
    "\n",
    "a = [1, 2, 3, 4, 5, 6]\n",
    "print(a)\n",
    "print(id(a))\n",
    "a.clear()\n",
    "print(a)\n",
    "print(id(a))"
   ]
  },
  {
   "cell_type": "code",
   "execution_count": 14,
   "metadata": {},
   "outputs": [
    {
     "name": "stdout",
     "output_type": "stream",
     "text": [
      "[1, 2, 3, 4]\n",
      "2257758611592\n",
      "[4, 3, 2, 1]\n",
      "2257758611592\n"
     ]
    }
   ],
   "source": [
    "# reverse  翻转\n",
    "\n",
    "a = [1, 2, 3, 4]\n",
    "print(a)\n",
    "print(id(a))\n",
    "\n",
    "a.reverse()\n",
    "print(a)\n",
    "print(id(a))"
   ]
  },
  {
   "cell_type": "code",
   "execution_count": 15,
   "metadata": {},
   "outputs": [
    {
     "name": "stdout",
     "output_type": "stream",
     "text": [
      "['mo', '1314']\n",
      "['you', '1314']\n",
      "['mo', '1314', 'you', '1314']\n"
     ]
    }
   ],
   "source": [
    "# extend 两个列表，把一个直接拼接在另一个后面\n",
    "\n",
    "a = [\"mo\", \"1314\"]\n",
    "b = [\"you\", \"1314\"]\n",
    "print(a)\n",
    "print(b)\n",
    "a.extend(b)\n",
    "print(a)"
   ]
  },
  {
   "cell_type": "code",
   "execution_count": 18,
   "metadata": {},
   "outputs": [
    {
     "name": "stdout",
     "output_type": "stream",
     "text": [
      "['mo', '1314', 'you', '1314', 1]\n",
      "['mo', '1314', 'you', '1314', 1, 1]\n",
      "2\n"
     ]
    }
   ],
   "source": [
    "# count 查找列表中指定值的个数\n",
    "\n",
    "print(a)\n",
    "a.append(1)\n",
    "print(a)\n",
    "print(a.count(1))"
   ]
  },
  {
   "cell_type": "code",
   "execution_count": 23,
   "metadata": {},
   "outputs": [
    {
     "name": "stdout",
     "output_type": "stream",
     "text": [
      "list a is:  ['mo', '1314', 'you', '1314', 1, 1]\n",
      "list a's id is:  2257758071176\n",
      "list c is:  ['mo', '1314', 'you', '1314', 1, 1]\n",
      "list c's id is:  2257758071176\n",
      "list d is:  ['mo', '1314', 'you', '1314', 1, 1]\n",
      "list d's id is:  2257758610632\n"
     ]
    }
   ],
   "source": [
    "# copy 将列表中的元素复制给另一个列表，不只是传址,浅拷贝\n",
    "\n",
    "print(\"list a is: \", a)\n",
    "print(\"list a's id is: \", id(a))\n",
    "c = a\n",
    "print(\"list c is: \", c)\n",
    "print(\"list c's id is: \", id(c))\n",
    "\n",
    "d = a.copy()\n",
    "print(\"list d is: \", d)\n",
    "print(\"list d's id is: \", id(d))"
   ]
  },
  {
   "cell_type": "code",
   "execution_count": 25,
   "metadata": {},
   "outputs": [
    {
     "name": "stdout",
     "output_type": "stream",
     "text": [
      "[1, 2, 3, [1, 2, 3]]\n",
      "2257758662344\n",
      "[1, 2, 3, [1, 2, 3]]\n",
      "2257757997832\n",
      "\n",
      "2257757997768\n",
      "2257757997768\n"
     ]
    }
   ],
   "source": [
    "a = [1, 2, 3, [1, 2, 3]]\n",
    "print(a)\n",
    "print(id(a))\n",
    "\n",
    "\n",
    "b = a.copy()\n",
    "print(b)\n",
    "print(id(b))\n",
    "\n",
    "print()\n",
    "print(id(a[3]))\n",
    "print(id(b[3]))\n",
    "\n",
    "# 浅拷贝， 即只拷贝一层，如果出现嵌套list，则深层list拷贝过去后的id是一样的"
   ]
  },
  {
   "cell_type": "markdown",
   "metadata": {},
   "source": [
    "# 元组  tuple\n",
    "- 可以看成一个不可以更改的list"
   ]
  },
  {
   "cell_type": "code",
   "execution_count": 31,
   "metadata": {},
   "outputs": [
    {
     "name": "stdout",
     "output_type": "stream",
     "text": [
      "<class 'tuple'>\n",
      "<class 'tuple'>\n",
      "(1,)\n",
      "<class 'tuple'>\n",
      "(1, 2, 3, 4)\n",
      "2\n"
     ]
    }
   ],
   "source": [
    "# 创建空元组\n",
    "\n",
    "t = ()\n",
    "print(type(t))\n",
    "\n",
    "# 创建只有一个值得元组\n",
    "# 逗号不可省略\n",
    "\n",
    "m = (1,)\n",
    "print(type(m))\n",
    "print(m)\n",
    "\n",
    "# 创建多个值得元组\n",
    "n = (1, 2, 3, 4)\n",
    "print(type(n))\n",
    "print(n)\n",
    "print(n[1])\n"
   ]
  },
  {
   "cell_type": "markdown",
   "metadata": {},
   "source": [
    "## 元组的特点\n",
    "\n",
    "- 有序\n",
    "- 元组数据可以访问，但里面的内容不能修改\n"
   ]
  },
  {
   "cell_type": "markdown",
   "metadata": {},
   "source": [
    "#### 元组遍历\n",
    "\n",
    "tup = (1, 2, 3, 4)\n",
    "\n",
    "for i in tup:\n",
    "    print(i)"
   ]
  },
  {
   "cell_type": "code",
   "execution_count": 33,
   "metadata": {},
   "outputs": [
    {
     "name": "stdout",
     "output_type": "stream",
     "text": [
      "1 -- 2 -- 3\n",
      "4 -- 5 -- 6\n",
      "hi -- you -- who\n"
     ]
    }
   ],
   "source": [
    "# 双层元组的遍历\n",
    "\n",
    "t = ((1, 2, 3), (4, 5, 6), (\"hi\", \"you\", \"who\"))\n",
    "\n",
    "for k, m, n in t:\n",
    "    print(k, \"--\", m, \"--\", n)"
   ]
  }
 ],
 "metadata": {
  "kernelspec": {
   "display_name": "Python 3",
   "language": "python",
   "name": "python3"
  },
  "language_info": {
   "codemirror_mode": {
    "name": "ipython",
    "version": 3
   },
   "file_extension": ".py",
   "mimetype": "text/x-python",
   "name": "python",
   "nbconvert_exporter": "python",
   "pygments_lexer": "ipython3",
   "version": "3.6.5"
  }
 },
 "nbformat": 4,
 "nbformat_minor": 2
}
