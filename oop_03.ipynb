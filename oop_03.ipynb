{
 "cells": [
  {
   "cell_type": "code",
   "execution_count": 2,
   "metadata": {},
   "outputs": [
    {
     "name": "stdout",
     "output_type": "stream",
     "text": [
      "(<class '__main__.A'>, <class 'object'>)\n"
     ]
    }
   ],
   "source": [
    "# __mro__   显示一个类的父类\n",
    "\n",
    "class A():\n",
    "    pass\n",
    "\n",
    "print(A.__mro__)"
   ]
  },
  {
   "cell_type": "markdown",
   "metadata": {},
   "source": [
    "## 单继承和多继承\n",
    "- 单继承： 每个类只能继承一个类\n",
    "- 多继承： 每个类可以继承多个类\n",
    "    - 不推荐使用多继承"
   ]
  },
  {
   "cell_type": "code",
   "execution_count": 5,
   "metadata": {},
   "outputs": [
    {
     "name": "stdout",
     "output_type": "stream",
     "text": [
      "swimming\n",
      "(<class '__main__.SuperMan'>, <class '__main__.Fish'>, <class '__main__.Person'>, <class 'object'>)\n"
     ]
    }
   ],
   "source": [
    "# 多继承的例子\n",
    "\n",
    "class Fish():\n",
    "    def __init__(self, name):\n",
    "        self.name = name\n",
    "        \n",
    "    def swim(self):\n",
    "        print(\"swimming\")\n",
    "        \n",
    "class Person():\n",
    "    def __init__(self, name):\n",
    "        self.name = name\n",
    "        \n",
    "    def work(self):\n",
    "        print(\"working\")\n",
    "        \n",
    "class SuperMan(Fish, Person):\n",
    "    def __init__(self, name):\n",
    "        self.name = name\n",
    "        \n",
    "huanhuan = SuperMan(\"huanhuan\")\n",
    "\n",
    "huanhuan.swim()\n",
    "\n",
    "print(SuperMan.__mro__)\n",
    "\n",
    "\n"
   ]
  },
  {
   "cell_type": "code",
   "execution_count": 5,
   "metadata": {},
   "outputs": [
    {
     "name": "stdout",
     "output_type": "stream",
     "text": [
      "hi, how are you\n",
      "kity\n"
     ]
    }
   ],
   "source": [
    "# 构造函数\n",
    "# 在对象实例化时，构造函数被自动调用，通常用来初始化\n",
    "\n",
    "class Person():\n",
    "    def __init__(self):\n",
    "        self.name = \"kity\"\n",
    "        self.age = 18\n",
    "        \n",
    "        print(\"hi, how are you\")\n",
    "        \n",
    "p = Person()\n",
    "\n",
    "print(p.name)\n"
   ]
  },
  {
   "cell_type": "code",
   "execution_count": 8,
   "metadata": {},
   "outputs": [
    {
     "name": "stdout",
     "output_type": "stream",
     "text": [
      "Help on class super in module builtins:\n",
      "\n",
      "class super(object)\n",
      " |  super() -> same as super(__class__, <first argument>)\n",
      " |  super(type) -> unbound super object\n",
      " |  super(type, obj) -> bound super object; requires isinstance(obj, type)\n",
      " |  super(type, type2) -> bound super object; requires issubclass(type2, type)\n",
      " |  Typical use to call a cooperative superclass method:\n",
      " |  class C(B):\n",
      " |      def meth(self, arg):\n",
      " |          super().meth(arg)\n",
      " |  This works for class methods too:\n",
      " |  class C(B):\n",
      " |      @classmethod\n",
      " |      def cmeth(cls, arg):\n",
      " |          super().cmeth(arg)\n",
      " |  \n",
      " |  Methods defined here:\n",
      " |  \n",
      " |  __get__(self, instance, owner, /)\n",
      " |      Return an attribute of instance, which is of type owner.\n",
      " |  \n",
      " |  __getattribute__(self, name, /)\n",
      " |      Return getattr(self, name).\n",
      " |  \n",
      " |  __init__(self, /, *args, **kwargs)\n",
      " |      Initialize self.  See help(type(self)) for accurate signature.\n",
      " |  \n",
      " |  __new__(*args, **kwargs) from builtins.type\n",
      " |      Create and return a new object.  See help(type) for accurate signature.\n",
      " |  \n",
      " |  __repr__(self, /)\n",
      " |      Return repr(self).\n",
      " |  \n",
      " |  ----------------------------------------------------------------------\n",
      " |  Data descriptors defined here:\n",
      " |  \n",
      " |  __self__\n",
      " |      the instance invoking super(); may be None\n",
      " |  \n",
      " |  __self_class__\n",
      " |      the type of the instance invoking super(); may be None\n",
      " |  \n",
      " |  __thisclass__\n",
      " |      the class invoking super()\n",
      "\n"
     ]
    }
   ],
   "source": [
    "help(super)"
   ]
  },
  {
   "cell_type": "markdown",
   "metadata": {},
   "source": [
    "## Mixin设计模式\n",
    "- 利用多继承对类的功能进行增加\n",
    "- 在python中只是一种编程思想，并不是语法"
   ]
  },
  {
   "cell_type": "code",
   "execution_count": 7,
   "metadata": {},
   "outputs": [
    {
     "name": "stdout",
     "output_type": "stream",
     "text": [
      "Help on built-in function issubclass in module builtins:\n",
      "\n",
      "issubclass(cls, class_or_tuple, /)\n",
      "    Return whether 'cls' is a derived from another class or is the same class.\n",
      "    \n",
      "    A tuple, as in ``issubclass(x, (A, B, ...))``, may be given as the target to\n",
      "    check against. This is equivalent to ``issubclass(x, A) or issubclass(x, B)\n",
      "    or ...`` etc.\n",
      "\n"
     ]
    }
   ],
   "source": [
    "help(issubclass)"
   ]
  },
  {
   "cell_type": "code",
   "execution_count": 3,
   "metadata": {},
   "outputs": [
    {
     "name": "stdout",
     "output_type": "stream",
     "text": [
      "Help on class C in module __main__:\n",
      "\n",
      "class C(builtins.object)\n",
      " |  Data descriptors defined here:\n",
      " |  \n",
      " |  __dict__\n",
      " |      dictionary for instance variables (if defined)\n",
      " |  \n",
      " |  __weakref__\n",
      " |      list of weak references to the object (if defined)\n",
      "\n"
     ]
    }
   ],
   "source": [
    "class C():\n",
    "    pass\n",
    "\n",
    "help(C)"
   ]
  },
  {
   "cell_type": "code",
   "execution_count": 4,
   "metadata": {},
   "outputs": [
    {
     "name": "stdout",
     "output_type": "stream",
     "text": [
      "True\n"
     ]
    }
   ],
   "source": [
    "# 检测一个类是不是另一个类的子类\n",
    "# issubclass\n",
    "\n",
    "class A():\n",
    "    pass\n",
    "\n",
    "class B(A):\n",
    "    pass\n",
    "\n",
    "print(issubclass(B, A))"
   ]
  },
  {
   "cell_type": "code",
   "execution_count": 7,
   "metadata": {},
   "outputs": [
    {
     "data": {
      "text/plain": [
       "mappingproxy({'__module__': '__main__',\n",
       "              '__dict__': <attribute '__dict__' of 'A' objects>,\n",
       "              '__weakref__': <attribute '__weakref__' of 'A' objects>,\n",
       "              '__doc__': None})"
      ]
     },
     "execution_count": 7,
     "metadata": {},
     "output_type": "execute_result"
    }
   ],
   "source": [
    "A.__dict__\n"
   ]
  }
 ],
 "metadata": {
  "kernelspec": {
   "display_name": "Python 3",
   "language": "python",
   "name": "python3"
  },
  "language_info": {
   "codemirror_mode": {
    "name": "ipython",
    "version": 3
   },
   "file_extension": ".py",
   "mimetype": "text/x-python",
   "name": "python",
   "nbconvert_exporter": "python",
   "pygments_lexer": "ipython3",
   "version": "3.6.5"
  }
 },
 "nbformat": 4,
 "nbformat_minor": 2
}
